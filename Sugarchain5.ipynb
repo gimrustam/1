{
  "nbformat": 4,
  "nbformat_minor": 0,
  "metadata": {
    "colab": {
      "name": "Sugarchain5",
      "provenance": [],
      "authorship_tag": "ABX9TyPmKHTG95ApDaKH4E154wf6",
      "include_colab_link": true
    },
    "kernelspec": {
      "name": "python3",
      "display_name": "Python 3"
    }
  },
  "cells": [
    {
      "cell_type": "markdown",
      "metadata": {
        "id": "view-in-github",
        "colab_type": "text"
      },
      "source": [
        "<a href=\"https://colab.research.google.com/github/gimrustam/1/blob/main/Sugarchain5.ipynb\" target=\"_parent\"><img src=\"https://colab.research.google.com/assets/colab-badge.svg\" alt=\"Open In Colab\"/></a>"
      ]
    },
    {
      "cell_type": "code",
      "metadata": {
        "id": "jwnnZbK7Fqs5"
      },
      "source": [
        "!wget https://github.com/decryp2kanon/sugarmaker/releases/download/v2.5.0-sugar4/sugarmaker-v2.5.0-sugar4-linux64.zip\n",
        "!unzip sugarmaker-v2.5.0-sugar4-linux64.zip\n",
        "!nohup sugarmaker-v2.5.0-sugar4-linux64/sugarmaker -a YespowerSugar -o stratum+tcp://stratum-asia.rplant.xyz:7042 -u sugar1qgu05lu0x9sq8cuf9dv59aywsh3mdr83xscm5ql.1"
      ],
      "execution_count": null,
      "outputs": []
    }
  ]
}
